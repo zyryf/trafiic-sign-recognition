{
 "cells": [
  {
   "cell_type": "code",
   "execution_count": 2,
   "metadata": {},
   "outputs": [],
   "source": [
    "# Libraries \n",
    "import numpy as np \n",
    "import pandas as pd \n",
    "import matplotlib.pyplot as plt\n",
    "import tensorflow as tf\n",
    "import cv2\n",
    "from PIL import Image\n",
    "import os"
   ]
  },
  {
   "cell_type": "markdown",
   "metadata": {},
   "source": [
    "## Importing Data"
   ]
  },
  {
   "cell_type": "code",
   "execution_count": 3,
   "metadata": {},
   "outputs": [
    {
     "name": "stdout",
     "output_type": "stream",
     "text": [
      "./data/train/0/\n",
      "./data/train/1/\n",
      "./data/train/2/\n",
      "./data/train/3/\n",
      "./data/train/4/\n",
      "./data/train/5/\n",
      "./data/train/6/\n",
      "./data/train/7/\n",
      "./data/train/8/\n",
      "./data/train/9/\n",
      "./data/train/10/\n",
      "./data/train/11/\n",
      "./data/train/12/\n",
      "./data/train/13/\n",
      "./data/train/14/\n",
      "./data/train/15/\n",
      "./data/train/16/\n",
      "./data/train/17/\n",
      "./data/train/18/\n",
      "./data/train/19/\n",
      "./data/train/20/\n",
      "./data/train/21/\n",
      "./data/train/22/\n",
      "./data/train/23/\n",
      "./data/train/24/\n",
      "./data/train/25/\n",
      "./data/train/26/\n",
      "./data/train/27/\n",
      "./data/train/28/\n",
      "./data/train/29/\n",
      "./data/train/30/\n",
      "./data/train/31/\n",
      "./data/train/32/\n",
      "./data/train/33/\n",
      "./data/train/34/\n",
      "./data/train/35/\n",
      "./data/train/36/\n",
      "./data/train/37/\n",
      "./data/train/38/\n",
      "./data/train/39/\n",
      "./data/train/40/\n",
      "./data/train/41/\n",
      "./data/train/42/\n"
     ]
    }
   ],
   "source": [
    "# Reading the input images and putting them into a numpy array\n",
    "data=[]\n",
    "labels=[]\n",
    "\n",
    "height = 30\n",
    "width = 30\n",
    "channels = 3\n",
    "classes = 43\n",
    "n_inputs = height * width*channels\n",
    "\n",
    "for i in range(classes) :\n",
    "    path = \"./data/train/{0}/\".format(i)\n",
    "    print(path)\n",
    "    Class=os.listdir(path)\n",
    "    for a in Class:\n",
    "        try:\n",
    "            image=cv2.imread(path+a)\n",
    "            image_from_array = Image.fromarray(image, 'RGB')\n",
    "            size_image = image_from_array.resize((height, width))\n",
    "            data.append(np.array(size_image))\n",
    "            labels.append(i)\n",
    "        except AttributeError:\n",
    "            print(\" \")\n",
    "            \n",
    "Cells=np.array(data)\n",
    "labels=np.array(labels)\n",
    "\n"
   ]
  },
  {
   "cell_type": "markdown",
   "metadata": {},
   "source": [
    "## Preprocessing data  "
   ]
  },
  {
   "cell_type": "code",
   "execution_count": 5,
   "metadata": {},
   "outputs": [],
   "source": [
    "\n",
    "#Randomize the order of the input images\n",
    "s=np.arange(Cells.shape[0])\n",
    "np.random.seed(43)\n",
    "np.random.shuffle(s)\n",
    "Cells=Cells[s]\n",
    "labels=labels[s]\n"
   ]
  },
  {
   "cell_type": "code",
   "execution_count": 41,
   "metadata": {},
   "outputs": [],
   "source": [
    "#for testing purposes we have limited the data to the 10% of its original length\n",
    "Cells=Cells[:(int)(0.5*len(Cells))]\n",
    "labels=labels[:(int)(0.5*len(labels))]"
   ]
  },
  {
   "cell_type": "code",
   "execution_count": 42,
   "metadata": {},
   "outputs": [],
   "source": [
    "\n",
    "#Spliting the images into train and validation sets\n",
    "(X_train,X_val)=Cells[(int)(0.2*len(Cells)):],Cells[:(int)(0.2*len(Cells))]\n",
    "\n",
    "#reducing the range of the values to <0,1>\n",
    "X_train = X_train.astype('float32')/255\n",
    "X_val = X_val.astype('float32')/255\n",
    "\n",
    "(y_train,y_val)=labels[(int)(0.2*len(labels)):],labels[:(int)(0.2*len(labels))]\n",
    "\n",
    "#convert integer label values to matrix which has binary values and has columns equal to the number of categories in the data.\n",
    "from keras.utils import to_categorical\n",
    "y_train = to_categorical(y_train, 43)\n",
    "y_val = to_categorical(y_val, 43)\n",
    "\n"
   ]
  },
  {
   "cell_type": "markdown",
   "metadata": {},
   "source": [
    "## Model definition"
   ]
  },
  {
   "cell_type": "code",
   "execution_count": 43,
   "metadata": {},
   "outputs": [],
   "source": [
    "#extraciting features with features map (presence of specific features)\n",
    "\n",
    "# relu -> rectified linear unit - x<0 => 0; x>0 =>  x\n",
    "\n",
    "from keras.models import Sequential\n",
    "from keras.layers import Conv2D, MaxPool2D, Dense, Flatten, Dropout\n",
    "\n",
    "model = Sequential()\n",
    "model.add(Conv2D(filters=32, kernel_size=(5,5), activation='relu', input_shape=X_train.shape[1:]))\n",
    "model.add(Conv2D(filters=64, kernel_size=(3, 3), activation='relu'))\n",
    "model.add(MaxPool2D(pool_size=(2, 2)))\n",
    "model.add(Dropout(rate=0.25))\n",
    "model.add(Conv2D(filters=64, kernel_size=(3, 3), activation='relu'))\n",
    "model.add(MaxPool2D(pool_size=(2, 2)))\n",
    "model.add(Dropout(rate=0.25))\n"
   ]
  },
  {
   "cell_type": "code",
   "execution_count": 45,
   "metadata": {},
   "outputs": [
    {
     "name": "stdout",
     "output_type": "stream",
     "text": [
      "Model: \"sequential_1\"\n",
      "_________________________________________________________________\n",
      "Layer (type)                 Output Shape              Param #   \n",
      "=================================================================\n",
      "conv2d_3 (Conv2D)            (None, 26, 26, 32)        2432      \n",
      "_________________________________________________________________\n",
      "conv2d_4 (Conv2D)            (None, 24, 24, 64)        18496     \n",
      "_________________________________________________________________\n",
      "max_pooling2d_2 (MaxPooling2 (None, 12, 12, 64)        0         \n",
      "_________________________________________________________________\n",
      "dropout_4 (Dropout)          (None, 12, 12, 64)        0         \n",
      "_________________________________________________________________\n",
      "conv2d_5 (Conv2D)            (None, 10, 10, 64)        36928     \n",
      "_________________________________________________________________\n",
      "max_pooling2d_3 (MaxPooling2 (None, 5, 5, 64)          0         \n",
      "_________________________________________________________________\n",
      "dropout_5 (Dropout)          (None, 5, 5, 64)          0         \n",
      "_________________________________________________________________\n",
      "flatten_2 (Flatten)          (None, 1600)              0         \n",
      "_________________________________________________________________\n",
      "dense_4 (Dense)              (None, 256)               409856    \n",
      "_________________________________________________________________\n",
      "dropout_6 (Dropout)          (None, 256)               0         \n",
      "_________________________________________________________________\n",
      "dense_5 (Dense)              (None, 43)                11051     \n",
      "=================================================================\n",
      "Total params: 478,763\n",
      "Trainable params: 478,763\n",
      "Non-trainable params: 0\n",
      "_________________________________________________________________\n"
     ]
    }
   ],
   "source": [
    "# addin dense layers to map combinantion of features to the specific class\n",
    "model.add(Flatten())\n",
    "model.add(Dense(256, activation='relu'))\n",
    "model.add(Dropout(rate=0.5))\n",
    "model.add(Dense(43, activation='softmax'))\n",
    "\n",
    "model.summary()"
   ]
  },
  {
   "cell_type": "markdown",
   "metadata": {},
   "source": [
    "## Training the model"
   ]
  },
  {
   "cell_type": "code",
   "execution_count": 44,
   "metadata": {},
   "outputs": [],
   "source": [
    "#Compilation of the model\n",
    "\n",
    "# adam is the most popular omptimazer\n",
    "# for classification tasks categorical_crossentropy function is the best fit\n",
    "model.compile(\n",
    "    loss='categorical_crossentropy', \n",
    "    optimizer='adam', \n",
    "    metrics=['accuracy']\n",
    ")"
   ]
  },
  {
   "cell_type": "code",
   "execution_count": 47,
   "metadata": {},
   "outputs": [
    {
     "name": "stdout",
     "output_type": "stream",
     "text": [
      "Epoch 1/30\n",
      "5/5 [==============================] - 1s 165ms/step - loss: 1.6055 - accuracy: 0.5223 - val_loss: 2.5903 - val_accuracy: 0.4103\n",
      "Epoch 2/30\n",
      "5/5 [==============================] - 1s 149ms/step - loss: 1.4964 - accuracy: 0.5732 - val_loss: 2.5393 - val_accuracy: 0.5385\n",
      "Epoch 3/30\n",
      "5/5 [==============================] - 1s 142ms/step - loss: 1.3613 - accuracy: 0.6561 - val_loss: 2.4274 - val_accuracy: 0.5385\n",
      "Epoch 4/30\n",
      "5/5 [==============================] - 1s 139ms/step - loss: 1.2581 - accuracy: 0.6624 - val_loss: 2.4123 - val_accuracy: 0.5641\n",
      "Epoch 5/30\n",
      "5/5 [==============================] - 1s 139ms/step - loss: 1.2353 - accuracy: 0.6497 - val_loss: 2.4839 - val_accuracy: 0.5641\n",
      "Epoch 6/30\n",
      "5/5 [==============================] - 1s 137ms/step - loss: 1.1053 - accuracy: 0.6752 - val_loss: 2.4414 - val_accuracy: 0.5641\n",
      "Epoch 7/30\n",
      "5/5 [==============================] - 1s 135ms/step - loss: 0.9914 - accuracy: 0.7261 - val_loss: 2.6570 - val_accuracy: 0.5385\n",
      "Epoch 8/30\n",
      "5/5 [==============================] - 1s 151ms/step - loss: 1.0326 - accuracy: 0.7070 - val_loss: 2.6758 - val_accuracy: 0.5128\n",
      "Epoch 9/30\n",
      "5/5 [==============================] - 1s 157ms/step - loss: 0.9706 - accuracy: 0.7325 - val_loss: 2.5302 - val_accuracy: 0.5641\n",
      "Epoch 10/30\n",
      "5/5 [==============================] - 1s 155ms/step - loss: 0.9173 - accuracy: 0.7197 - val_loss: 2.5086 - val_accuracy: 0.4872\n",
      "Epoch 11/30\n",
      "5/5 [==============================] - 1s 140ms/step - loss: 0.7707 - accuracy: 0.8153 - val_loss: 2.8848 - val_accuracy: 0.5385\n",
      "Epoch 12/30\n",
      "5/5 [==============================] - 1s 146ms/step - loss: 0.9536 - accuracy: 0.7325 - val_loss: 2.6954 - val_accuracy: 0.4872\n",
      "Epoch 13/30\n",
      "5/5 [==============================] - 1s 137ms/step - loss: 0.8571 - accuracy: 0.7452 - val_loss: 2.6558 - val_accuracy: 0.5128\n",
      "Epoch 14/30\n",
      "5/5 [==============================] - 1s 157ms/step - loss: 0.7648 - accuracy: 0.7389 - val_loss: 2.8049 - val_accuracy: 0.5385\n",
      "Epoch 15/30\n",
      "5/5 [==============================] - 1s 146ms/step - loss: 0.6509 - accuracy: 0.7962 - val_loss: 2.5592 - val_accuracy: 0.5385\n",
      "Epoch 16/30\n",
      "5/5 [==============================] - 1s 138ms/step - loss: 0.4835 - accuracy: 0.8917 - val_loss: 2.6938 - val_accuracy: 0.5641\n",
      "Epoch 17/30\n",
      "5/5 [==============================] - 1s 136ms/step - loss: 0.5524 - accuracy: 0.8535 - val_loss: 2.9795 - val_accuracy: 0.5897\n",
      "Epoch 18/30\n",
      "5/5 [==============================] - 1s 135ms/step - loss: 0.4707 - accuracy: 0.8726 - val_loss: 3.2039 - val_accuracy: 0.5897\n",
      "Epoch 19/30\n",
      "5/5 [==============================] - 1s 139ms/step - loss: 0.3983 - accuracy: 0.8981 - val_loss: 3.3749 - val_accuracy: 0.5897\n",
      "Epoch 20/30\n",
      "5/5 [==============================] - 1s 137ms/step - loss: 0.5335 - accuracy: 0.8408 - val_loss: 3.3201 - val_accuracy: 0.5897\n",
      "Epoch 21/30\n",
      "5/5 [==============================] - 1s 138ms/step - loss: 0.3925 - accuracy: 0.8790 - val_loss: 3.3981 - val_accuracy: 0.5641\n",
      "Epoch 22/30\n",
      "5/5 [==============================] - 1s 139ms/step - loss: 0.4438 - accuracy: 0.8790 - val_loss: 3.5989 - val_accuracy: 0.5128\n",
      "Epoch 23/30\n",
      "5/5 [==============================] - 1s 136ms/step - loss: 0.5221 - accuracy: 0.8280 - val_loss: 3.3007 - val_accuracy: 0.5641\n",
      "Epoch 24/30\n",
      "5/5 [==============================] - 1s 136ms/step - loss: 0.4725 - accuracy: 0.8917 - val_loss: 3.1923 - val_accuracy: 0.5385\n",
      "Epoch 25/30\n",
      "5/5 [==============================] - 1s 137ms/step - loss: 0.4537 - accuracy: 0.8599 - val_loss: 3.2979 - val_accuracy: 0.5897\n",
      "Epoch 26/30\n",
      "5/5 [==============================] - 1s 137ms/step - loss: 0.4142 - accuracy: 0.8854 - val_loss: 3.1336 - val_accuracy: 0.5897\n",
      "Epoch 27/30\n",
      "5/5 [==============================] - 1s 137ms/step - loss: 0.3561 - accuracy: 0.8981 - val_loss: 3.0278 - val_accuracy: 0.5897\n",
      "Epoch 28/30\n",
      "5/5 [==============================] - 1s 135ms/step - loss: 0.3341 - accuracy: 0.9108 - val_loss: 3.2022 - val_accuracy: 0.5641\n",
      "Epoch 29/30\n",
      "5/5 [==============================] - 1s 140ms/step - loss: 0.3401 - accuracy: 0.9172 - val_loss: 3.3661 - val_accuracy: 0.5641\n",
      "Epoch 30/30\n",
      "5/5 [==============================] - 1s 134ms/step - loss: 0.3534 - accuracy: 0.8981 - val_loss: 3.4240 - val_accuracy: 0.5641\n"
     ]
    }
   ],
   "source": [
    "#using 30 epochs for the training and saving the accuracy for each epoch\n",
    "epochs = 30\n",
    "history = model.fit(X_train, y_train, batch_size=32, epochs=epochs,validation_data=(X_val, y_val))\n",
    "\n"
   ]
  },
  {
   "cell_type": "markdown",
   "metadata": {},
   "source": [
    "## Results"
   ]
  },
  {
   "cell_type": "code",
   "execution_count": 59,
   "metadata": {},
   "outputs": [
    {
     "data": {
      "text/plain": [
       "<matplotlib.legend.Legend at 0x24254ad69d0>"
      ]
     },
     "execution_count": 59,
     "metadata": {},
     "output_type": "execute_result"
    },
    {
     "data": {
      "image/png": "[encoded data removed]",
      "text/plain": [
       "<Figure size 432x288 with 1 Axes>"
      ]
     },
     "metadata": {
      "needs_background": "light"
     },
     "output_type": "display_data"
    }
   ],
   "source": [
    "\n",
    "#Display of the accuracy and the loss values\n",
    "import matplotlib.pyplot as plt\n",
    "\n",
    "plt.figure(0)\n",
    "plt.plot(history.history['accuracy'], label='training set accuracy')\n",
    "plt.plot(history.history['val_accuracy'], label='validation set accuracy')\n",
    "plt.title('Accuracy')\n",
    "plt.xlabel('epochs')\n",
    "plt.ylabel('accuracy')\n",
    "plt.legend()\n",
    "\n",
    "\n"
   ]
  },
  {
   "cell_type": "code",
   "execution_count": null,
   "metadata": {},
   "outputs": [],
   "source": []
  }
 ],
 "metadata": {
  "kernelspec": {
   "display_name": "Python 3",
   "language": "python",
   "name": "python3"
  },
  "language_info": {
   "codemirror_mode": {
    "name": "ipython",
    "version": 3
   },
   "file_extension": ".py",
   "mimetype": "text/x-python",
   "name": "python",
   "nbconvert_exporter": "python",
   "pygments_lexer": "ipython3",
   "version": "3.8.6"
  }
 },
 "nbformat": 4,
 "nbformat_minor": 4
}
